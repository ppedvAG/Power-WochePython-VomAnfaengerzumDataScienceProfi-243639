{
 "cells": [
  {
   "cell_type": "markdown",
   "id": "e47aaec8-0dc4-4f0c-b5e0-76727ebcd9a0",
   "metadata": {},
   "source": [
    "## Numpy\n",
    "\n",
    "Verarbeitung von Zahlen\n",
    "\n",
    "Im Gegensatz zu Python sehr performant, weil in C geschrieben"
   ]
  },
  {
   "cell_type": "code",
   "execution_count": 1,
   "id": "cc525cf7-fd12-48a0-871d-bc76fc68fd8f",
   "metadata": {},
   "outputs": [],
   "source": [
    "import numpy as np"
   ]
  },
  {
   "cell_type": "markdown",
   "id": "efad1a67-8b2b-460a-ba07-5df0f29bbfb4",
   "metadata": {},
   "source": [
    "### Array\n",
    "\n",
    "Grundstruktur für Daten\n",
    "\n",
    "Kann auch mehrdimensional angelegt werden"
   ]
  },
  {
   "cell_type": "code",
   "execution_count": 2,
   "id": "bbb9d9ed-7cd6-49c9-91f0-d8b9fc80a9c6",
   "metadata": {},
   "outputs": [
    {
     "data": {
      "text/plain": [
       "array([1, 2, 3, 4])"
      ]
     },
     "execution_count": 2,
     "metadata": {},
     "output_type": "execute_result"
    }
   ],
   "source": [
    "np.array([1, 2, 3, 4])"
   ]
  },
  {
   "cell_type": "code",
   "execution_count": 3,
   "id": "4165a75a-96a5-483a-9dee-f1d399ef172f",
   "metadata": {},
   "outputs": [],
   "source": [
    "a = np.array([1, 2, 3, 4])"
   ]
  },
  {
   "cell_type": "code",
   "execution_count": 4,
   "id": "bfd45bef-d9de-49de-9941-e4847f2b9afb",
   "metadata": {},
   "outputs": [
    {
     "data": {
      "text/plain": [
       "array([1, 2, 3, 4])"
      ]
     },
     "execution_count": 4,
     "metadata": {},
     "output_type": "execute_result"
    }
   ],
   "source": [
    "a"
   ]
  },
  {
   "cell_type": "markdown",
   "id": "1173ac2e-58df-4a3d-a078-f431d3ef818b",
   "metadata": {},
   "source": [
    "#### Index"
   ]
  },
  {
   "cell_type": "code",
   "execution_count": 5,
   "id": "e9bdb02f-5055-4549-b4c1-2487bc5c4310",
   "metadata": {},
   "outputs": [
    {
     "data": {
      "text/plain": [
       "1"
      ]
     },
     "execution_count": 5,
     "metadata": {},
     "output_type": "execute_result"
    }
   ],
   "source": [
    "a[0]"
   ]
  },
  {
   "cell_type": "code",
   "execution_count": 6,
   "id": "6c4a0796-5f67-4a0b-b671-4e00588a0abd",
   "metadata": {},
   "outputs": [
    {
     "data": {
      "text/plain": [
       "2"
      ]
     },
     "execution_count": 6,
     "metadata": {},
     "output_type": "execute_result"
    }
   ],
   "source": [
    "a[0] * 2"
   ]
  },
  {
   "cell_type": "code",
   "execution_count": 7,
   "id": "fac8b987-4768-48de-8c1a-41b4fb1fa6da",
   "metadata": {},
   "outputs": [
    {
     "data": {
      "text/plain": [
       "4"
      ]
     },
     "execution_count": 7,
     "metadata": {},
     "output_type": "execute_result"
    }
   ],
   "source": [
    "a[-1]"
   ]
  },
  {
   "cell_type": "code",
   "execution_count": 9,
   "id": "ceaaa1ca-54f3-4e58-bec7-3a3f78e51743",
   "metadata": {},
   "outputs": [
    {
     "data": {
      "text/plain": [
       "array([2, 3])"
      ]
     },
     "execution_count": 9,
     "metadata": {},
     "output_type": "execute_result"
    }
   ],
   "source": [
    "a[1:3]  # Obergrenze exkludiert"
   ]
  },
  {
   "cell_type": "code",
   "execution_count": 10,
   "id": "b0f179c6-d4dc-4c33-ae4f-33db2ed5b393",
   "metadata": {},
   "outputs": [],
   "source": [
    "b = np.array([4.2, 8.4, 1.2, 8.5])"
   ]
  },
  {
   "cell_type": "code",
   "execution_count": 11,
   "id": "d483d214-d494-4efa-914b-64d7b242f229",
   "metadata": {},
   "outputs": [
    {
     "data": {
      "text/plain": [
       "array([4.2, 8.4, 1.2, 8.5])"
      ]
     },
     "execution_count": 11,
     "metadata": {},
     "output_type": "execute_result"
    }
   ],
   "source": [
    "b"
   ]
  },
  {
   "cell_type": "markdown",
   "id": "a1d4b32d-0d82-45a6-b959-394e2d0afcef",
   "metadata": {},
   "source": [
    "#### Datentypen\n",
    "\n",
    "In Python gibt es int, float für Zahlen\n",
    "\n",
    "In Numpy gibt es genauere/kleinere Datentypen\n",
    "\n",
    "Ganze Zahlen:\n",
    "- int8\n",
    "- int16\n",
    "- int32\n",
    "- int64\n",
    "\n",
    "Kommazahlen:\n",
    "- float16\n",
    "- float32\n",
    "- float64"
   ]
  },
  {
   "cell_type": "code",
   "execution_count": 12,
   "id": "d0d1f432-a65b-4eb9-9f0a-6990c0038855",
   "metadata": {},
   "outputs": [
    {
     "data": {
      "text/plain": [
       "dtype('int32')"
      ]
     },
     "execution_count": 12,
     "metadata": {},
     "output_type": "execute_result"
    }
   ],
   "source": [
    "a.dtype"
   ]
  },
  {
   "cell_type": "code",
   "execution_count": 13,
   "id": "44d9e7fe-3a1c-4166-8844-6422e3182977",
   "metadata": {},
   "outputs": [
    {
     "data": {
      "text/plain": [
       "dtype('float64')"
      ]
     },
     "execution_count": 13,
     "metadata": {},
     "output_type": "execute_result"
    }
   ],
   "source": [
    "b.dtype"
   ]
  },
  {
   "cell_type": "code",
   "execution_count": 15,
   "id": "9908e100-6108-4615-87a2-7c9f6c9e3a3f",
   "metadata": {},
   "outputs": [
    {
     "name": "stdout",
     "output_type": "stream",
     "text": [
      "2147483647\n",
      "-2147483648\n"
     ]
    }
   ],
   "source": [
    "print(2**31-1)\n",
    "print(-2**31)"
   ]
  },
  {
   "cell_type": "code",
   "execution_count": 16,
   "id": "d165fd4a-af93-443b-b8e4-94dc5e456965",
   "metadata": {},
   "outputs": [],
   "source": [
    "a = np.array([1, 2, 3, 4], dtype=np.int8)"
   ]
  },
  {
   "cell_type": "code",
   "execution_count": 17,
   "id": "85506c04-c1d9-4e44-914f-df4f3789be33",
   "metadata": {},
   "outputs": [
    {
     "data": {
      "text/plain": [
       "dtype('int8')"
      ]
     },
     "execution_count": 17,
     "metadata": {},
     "output_type": "execute_result"
    }
   ],
   "source": [
    "a.dtype"
   ]
  },
  {
   "cell_type": "code",
   "execution_count": 18,
   "id": "87de64df-2d19-4aea-83da-750c6e8495c2",
   "metadata": {},
   "outputs": [
    {
     "name": "stdout",
     "output_type": "stream",
     "text": [
      "127\n",
      "-128\n"
     ]
    }
   ],
   "source": [
    "print(2**7-1)\n",
    "print(-2**7)"
   ]
  },
  {
   "cell_type": "code",
   "execution_count": 22,
   "id": "be4ace4a-7fb4-4157-85b1-7c13914e6b42",
   "metadata": {},
   "outputs": [
    {
     "data": {
      "text/plain": [
       "array([1, 2, 3, 4], dtype=int8)"
      ]
     },
     "execution_count": 22,
     "metadata": {},
     "output_type": "execute_result"
    }
   ],
   "source": [
    "a"
   ]
  },
  {
   "cell_type": "markdown",
   "id": "b68b5968-58dd-4823-968d-e290599a05b6",
   "metadata": {},
   "source": [
    "---"
   ]
  },
  {
   "cell_type": "code",
   "execution_count": 19,
   "id": "5d31d347-da21-4ac3-8db5-3103fdf344bc",
   "metadata": {},
   "outputs": [],
   "source": [
    "b = np.array([4.2, 8.4, 1.2, 8.5], dtype=np.float16)"
   ]
  },
  {
   "cell_type": "code",
   "execution_count": 20,
   "id": "4fc6d278-9a69-4b4d-9348-562d3206058e",
   "metadata": {},
   "outputs": [
    {
     "data": {
      "text/plain": [
       "dtype('float16')"
      ]
     },
     "execution_count": 20,
     "metadata": {},
     "output_type": "execute_result"
    }
   ],
   "source": [
    "b.dtype"
   ]
  },
  {
   "cell_type": "code",
   "execution_count": 21,
   "id": "4a0c658b-6438-431d-b3cb-b39412e57379",
   "metadata": {},
   "outputs": [
    {
     "data": {
      "text/plain": [
       "array([4.2, 8.4, 1.2, 8.5], dtype=float16)"
      ]
     },
     "execution_count": 21,
     "metadata": {},
     "output_type": "execute_result"
    }
   ],
   "source": [
    "b"
   ]
  },
  {
   "cell_type": "markdown",
   "id": "309f6a28-b757-445a-8eac-a1af44cce778",
   "metadata": {},
   "source": [
    "### Matrizen\n",
    "\n",
    "Zweidimensionales Array\n",
    "\n",
    "Wird häufig für Daten verwendet"
   ]
  },
  {
   "cell_type": "code",
   "execution_count": 24,
   "id": "c38519e5-8f50-4b90-ac31-1f29970f9a71",
   "metadata": {},
   "outputs": [],
   "source": [
    "c = np.array([\n",
    "    [1, 2, 3],\n",
    "    [4, 5, 6],\n",
    "    [7, 8, 9]\n",
    "], dtype=np.int16)"
   ]
  },
  {
   "cell_type": "code",
   "execution_count": 25,
   "id": "176723aa-3677-4ee7-b806-446ada22436b",
   "metadata": {},
   "outputs": [
    {
     "data": {
      "text/plain": [
       "array([[1, 2, 3],\n",
       "       [4, 5, 6],\n",
       "       [7, 8, 9]], dtype=int16)"
      ]
     },
     "execution_count": 25,
     "metadata": {},
     "output_type": "execute_result"
    }
   ],
   "source": [
    "c"
   ]
  },
  {
   "cell_type": "code",
   "execution_count": 27,
   "id": "75d74f82-4143-48b8-9f22-76cc57ac7cf2",
   "metadata": {},
   "outputs": [
    {
     "data": {
      "text/plain": [
       "9"
      ]
     },
     "execution_count": 27,
     "metadata": {},
     "output_type": "execute_result"
    }
   ],
   "source": [
    "c.size  # Anzahl der Plätze"
   ]
  },
  {
   "cell_type": "code",
   "execution_count": 28,
   "id": "590a4a3a-9142-4abc-95a9-14ba586e6140",
   "metadata": {},
   "outputs": [
    {
     "data": {
      "text/plain": [
       "2"
      ]
     },
     "execution_count": 28,
     "metadata": {},
     "output_type": "execute_result"
    }
   ],
   "source": [
    "c.ndim  # Anzahl Dimensionen"
   ]
  },
  {
   "cell_type": "code",
   "execution_count": 29,
   "id": "9642c8e9-c45d-4a85-9d5e-46918e80464a",
   "metadata": {},
   "outputs": [
    {
     "data": {
      "text/plain": [
       "(3, 3)"
      ]
     },
     "execution_count": 29,
     "metadata": {},
     "output_type": "execute_result"
    }
   ],
   "source": [
    "c.shape"
   ]
  },
  {
   "cell_type": "code",
   "execution_count": 33,
   "id": "52e6994b-dbf1-4214-b9d7-868e656ffe69",
   "metadata": {},
   "outputs": [
    {
     "data": {
      "text/plain": [
       "3"
      ]
     },
     "execution_count": 33,
     "metadata": {},
     "output_type": "execute_result"
    }
   ],
   "source": [
    "len(c[0])  # len auch hier wichtig"
   ]
  },
  {
   "cell_type": "code",
   "execution_count": 32,
   "id": "227206d4-6ada-4589-8c71-5f9b2c10ef78",
   "metadata": {},
   "outputs": [
    {
     "data": {
      "text/plain": [
       "array([1, 2, 3], dtype=int16)"
      ]
     },
     "execution_count": 32,
     "metadata": {},
     "output_type": "execute_result"
    }
   ],
   "source": [
    "c[0]"
   ]
  },
  {
   "cell_type": "markdown",
   "id": "4aa9417f-61f6-48bc-af41-783eb5cabd12",
   "metadata": {},
   "source": [
    "#### Matrix angreifen"
   ]
  },
  {
   "cell_type": "code",
   "execution_count": 34,
   "id": "5a7ee700-945b-4697-ab68-9b44d165ee4d",
   "metadata": {},
   "outputs": [
    {
     "data": {
      "text/plain": [
       "array([1, 2, 3], dtype=int16)"
      ]
     },
     "execution_count": 34,
     "metadata": {},
     "output_type": "execute_result"
    }
   ],
   "source": [
    "c[0]"
   ]
  },
  {
   "cell_type": "code",
   "execution_count": 35,
   "id": "4a3ba8d8-809d-4849-91d1-3eabecd0369e",
   "metadata": {},
   "outputs": [
    {
     "data": {
      "text/plain": [
       "2"
      ]
     },
     "execution_count": 35,
     "metadata": {},
     "output_type": "execute_result"
    }
   ],
   "source": [
    "c[0][1]"
   ]
  },
  {
   "cell_type": "code",
   "execution_count": 37,
   "id": "8e2ff65e-e230-4f5c-8be7-dcc840474a9e",
   "metadata": {},
   "outputs": [
    {
     "data": {
      "text/plain": [
       "2"
      ]
     },
     "execution_count": 37,
     "metadata": {},
     "output_type": "execute_result"
    }
   ],
   "source": [
    "c[0, 1]  # Mit X, Y einen Wert angreifen (In Python nicht möglich)"
   ]
  },
  {
   "cell_type": "markdown",
   "id": "81b660ae-3755-46d7-ba62-31ebf00c6a46",
   "metadata": {},
   "source": [
    "#### Slicing von Matrizen"
   ]
  },
  {
   "cell_type": "code",
   "execution_count": 39,
   "id": "d83ad2d0-22d2-43e3-91cd-19a589c70987",
   "metadata": {},
   "outputs": [
    {
     "data": {
      "text/plain": [
       "array([[4, 5, 6],\n",
       "       [7, 8, 9]], dtype=int16)"
      ]
     },
     "execution_count": 39,
     "metadata": {},
     "output_type": "execute_result"
    }
   ],
   "source": [
    "c[1:3]  # Bereiche nehmen"
   ]
  },
  {
   "cell_type": "code",
   "execution_count": 41,
   "id": "4841868c-1196-45b0-8f72-a5ed50271c8c",
   "metadata": {},
   "outputs": [
    {
     "data": {
      "text/plain": [
       "array([1, 4, 7], dtype=int16)"
      ]
     },
     "execution_count": 41,
     "metadata": {},
     "output_type": "execute_result"
    }
   ],
   "source": [
    "c[:, 0]  # Spalte nehmen"
   ]
  },
  {
   "cell_type": "code",
   "execution_count": 45,
   "id": "4a21cedf-d551-49de-b465-2b7a264ffcac",
   "metadata": {},
   "outputs": [
    {
     "data": {
      "text/plain": [
       "array([[5, 6],\n",
       "       [8, 9]], dtype=int16)"
      ]
     },
     "execution_count": 45,
     "metadata": {},
     "output_type": "execute_result"
    }
   ],
   "source": [
    "# Aufgabe: 2x2 Bereich unten rechts nehmen\n",
    "c[1:3, 1:3]"
   ]
  },
  {
   "cell_type": "code",
   "execution_count": 48,
   "id": "605bb774-3c8d-43de-b971-141be9f2a8db",
   "metadata": {},
   "outputs": [
    {
     "data": {
      "text/plain": [
       "array([[5, 6],\n",
       "       [8, 9]], dtype=int16)"
      ]
     },
     "execution_count": 48,
     "metadata": {},
     "output_type": "execute_result"
    }
   ],
   "source": [
    "c[1:, 1:]  # Obergrenze weglassen"
   ]
  },
  {
   "cell_type": "code",
   "execution_count": 49,
   "id": "8cd5fa55-5454-46dd-be81-2b169c5c2e58",
   "metadata": {},
   "outputs": [
    {
     "data": {
      "text/plain": [
       "array([[1, 2],\n",
       "       [4, 5]], dtype=int16)"
      ]
     },
     "execution_count": 49,
     "metadata": {},
     "output_type": "execute_result"
    }
   ],
   "source": [
    "c[:2, :2]  # Untergrenze weglassen"
   ]
  },
  {
   "cell_type": "markdown",
   "id": "d051a1ca-f1e3-4192-a157-f68444a237d7",
   "metadata": {},
   "source": [
    "#### Neue Werte eintragen"
   ]
  },
  {
   "cell_type": "code",
   "execution_count": 50,
   "id": "1c9fa1f2-5ec2-44d6-a575-d171f30c7f3d",
   "metadata": {},
   "outputs": [],
   "source": [
    "c[1, 1] = 50"
   ]
  },
  {
   "cell_type": "code",
   "execution_count": 51,
   "id": "91af8614-8a58-4d4c-84fc-56dfc957d444",
   "metadata": {},
   "outputs": [
    {
     "data": {
      "text/plain": [
       "array([[ 1,  2,  3],\n",
       "       [ 4, 50,  6],\n",
       "       [ 7,  8,  9]], dtype=int16)"
      ]
     },
     "execution_count": 51,
     "metadata": {},
     "output_type": "execute_result"
    }
   ],
   "source": [
    "c"
   ]
  },
  {
   "cell_type": "code",
   "execution_count": 52,
   "id": "8345d508-d96b-4f19-a9ab-7464e8d1ec0d",
   "metadata": {},
   "outputs": [],
   "source": [
    "c[0] = 10"
   ]
  },
  {
   "cell_type": "code",
   "execution_count": 53,
   "id": "592ef02c-150b-47be-9943-6084d269c727",
   "metadata": {},
   "outputs": [
    {
     "data": {
      "text/plain": [
       "array([[10, 10, 10],\n",
       "       [ 4, 50,  6],\n",
       "       [ 7,  8,  9]], dtype=int16)"
      ]
     },
     "execution_count": 53,
     "metadata": {},
     "output_type": "execute_result"
    }
   ],
   "source": [
    "c"
   ]
  },
  {
   "cell_type": "code",
   "execution_count": 54,
   "id": "2b9974cc-ec71-4dd0-8a76-65a53121ad29",
   "metadata": {},
   "outputs": [],
   "source": [
    "c[:, 2] = 100"
   ]
  },
  {
   "cell_type": "code",
   "execution_count": 55,
   "id": "a954b4fa-fa3d-453b-9bf6-b4331a0a007f",
   "metadata": {},
   "outputs": [
    {
     "data": {
      "text/plain": [
       "array([[ 10,  10, 100],\n",
       "       [  4,  50, 100],\n",
       "       [  7,   8, 100]], dtype=int16)"
      ]
     },
     "execution_count": 55,
     "metadata": {},
     "output_type": "execute_result"
    }
   ],
   "source": [
    "c"
   ]
  },
  {
   "cell_type": "markdown",
   "id": "1055f897-2c6f-4b27-b702-5f9d7349bc9f",
   "metadata": {},
   "source": [
    "#### Einfache Analyse von Daten"
   ]
  },
  {
   "cell_type": "code",
   "execution_count": 56,
   "id": "35c0d1c4-2c50-43cd-8123-2f8018395515",
   "metadata": {},
   "outputs": [
    {
     "data": {
      "text/plain": [
       "389"
      ]
     },
     "execution_count": 56,
     "metadata": {},
     "output_type": "execute_result"
    }
   ],
   "source": [
    "c.sum()"
   ]
  },
  {
   "cell_type": "code",
   "execution_count": 57,
   "id": "cb60037c-35f1-4550-8cf8-54444559292d",
   "metadata": {},
   "outputs": [
    {
     "data": {
      "text/plain": [
       "43.22222222222222"
      ]
     },
     "execution_count": 57,
     "metadata": {},
     "output_type": "execute_result"
    }
   ],
   "source": [
    "c.mean()"
   ]
  },
  {
   "cell_type": "code",
   "execution_count": 58,
   "id": "233cc37a-9692-4046-9735-c67001b1e6e6",
   "metadata": {},
   "outputs": [
    {
     "data": {
      "text/plain": [
       "42.18419340036628"
      ]
     },
     "execution_count": 58,
     "metadata": {},
     "output_type": "execute_result"
    }
   ],
   "source": [
    "c.std()"
   ]
  },
  {
   "cell_type": "code",
   "execution_count": 59,
   "id": "deece67f-f4a3-478b-a0f9-a456eb8b4200",
   "metadata": {},
   "outputs": [
    {
     "data": {
      "text/plain": [
       "1779.5061728395062"
      ]
     },
     "execution_count": 59,
     "metadata": {},
     "output_type": "execute_result"
    }
   ],
   "source": [
    "c.var()"
   ]
  },
  {
   "cell_type": "code",
   "execution_count": 61,
   "id": "d330ceb3-1e33-4f9a-9e09-81c051f57a1a",
   "metadata": {},
   "outputs": [
    {
     "data": {
      "text/plain": [
       "array([ 21,  68, 300])"
      ]
     },
     "execution_count": 61,
     "metadata": {},
     "output_type": "execute_result"
    }
   ],
   "source": [
    "c.sum(axis=0)  # Spalten summieren"
   ]
  },
  {
   "cell_type": "code",
   "execution_count": 62,
   "id": "dddadfac-e76e-416f-99e6-8a128c15ec08",
   "metadata": {},
   "outputs": [
    {
     "data": {
      "text/plain": [
       "array([120, 154, 115])"
      ]
     },
     "execution_count": 62,
     "metadata": {},
     "output_type": "execute_result"
    }
   ],
   "source": [
    "c.sum(axis=1)  # Zeilen summieren"
   ]
  },
  {
   "cell_type": "code",
   "execution_count": 63,
   "id": "1bf3136a-5ac1-46ad-8c86-6b50fe1621b6",
   "metadata": {},
   "outputs": [
    {
     "data": {
      "text/plain": [
       "389"
      ]
     },
     "execution_count": 63,
     "metadata": {},
     "output_type": "execute_result"
    }
   ],
   "source": [
    "np.sum(c)"
   ]
  },
  {
   "cell_type": "markdown",
   "id": "72c34ace-c7f9-4c9e-9f6c-e2b63626e131",
   "metadata": {},
   "source": [
    "### Vektorisierung von Arrays\n",
    "\n",
    "Gesamtes Array mit einer einzelnen Operation verändern"
   ]
  },
  {
   "cell_type": "code",
   "execution_count": 64,
   "id": "eba026df-e092-417f-b26b-a60dfdc6bf22",
   "metadata": {},
   "outputs": [],
   "source": [
    "d = np.array(range(20))"
   ]
  },
  {
   "cell_type": "code",
   "execution_count": 65,
   "id": "7bcc2fd4-0bf0-4941-a9e3-1c27ae1bafa3",
   "metadata": {},
   "outputs": [
    {
     "data": {
      "text/plain": [
       "array([ 0,  1,  2,  3,  4,  5,  6,  7,  8,  9, 10, 11, 12, 13, 14, 15, 16,\n",
       "       17, 18, 19])"
      ]
     },
     "execution_count": 65,
     "metadata": {},
     "output_type": "execute_result"
    }
   ],
   "source": [
    "d"
   ]
  },
  {
   "cell_type": "code",
   "execution_count": 66,
   "id": "4b55fafb-4529-4cb6-8582-b06653f49070",
   "metadata": {},
   "outputs": [
    {
     "data": {
      "text/plain": [
       "array([  0,   1,   4,   9,  16,  25,  36,  49,  64,  81, 100, 121, 144,\n",
       "       169, 196, 225, 256, 289, 324, 361])"
      ]
     },
     "execution_count": 66,
     "metadata": {},
     "output_type": "execute_result"
    }
   ],
   "source": [
    "d ** 2"
   ]
  },
  {
   "cell_type": "code",
   "execution_count": 67,
   "id": "2a04096d-5265-44e1-893f-d396bc2cda91",
   "metadata": {},
   "outputs": [
    {
     "data": {
      "text/plain": [
       "array([10, 11, 12, 13, 14, 15, 16, 17, 18, 19, 20, 21, 22, 23, 24, 25, 26,\n",
       "       27, 28, 29])"
      ]
     },
     "execution_count": 67,
     "metadata": {},
     "output_type": "execute_result"
    }
   ],
   "source": [
    "d + 10"
   ]
  },
  {
   "cell_type": "code",
   "execution_count": 68,
   "id": "dd0061d6-da7b-4884-9b1e-758a09c4d53b",
   "metadata": {},
   "outputs": [
    {
     "data": {
      "text/plain": [
       "array([ 0,  1,  2,  3,  4,  5,  6,  7,  8,  9, 10, 11, 12, 13, 14, 15, 16,\n",
       "       17, 18, 19])"
      ]
     },
     "execution_count": 68,
     "metadata": {},
     "output_type": "execute_result"
    }
   ],
   "source": [
    "d"
   ]
  },
  {
   "cell_type": "code",
   "execution_count": 69,
   "id": "6664b66b-f853-44bc-9c26-1b6140142e4e",
   "metadata": {},
   "outputs": [],
   "source": [
    "d += 10"
   ]
  },
  {
   "cell_type": "code",
   "execution_count": 70,
   "id": "04fb520d-5ed4-429d-a45d-888141f321d2",
   "metadata": {},
   "outputs": [
    {
     "data": {
      "text/plain": [
       "array([10, 11, 12, 13, 14, 15, 16, 17, 18, 19, 20, 21, 22, 23, 24, 25, 26,\n",
       "       27, 28, 29])"
      ]
     },
     "execution_count": 70,
     "metadata": {},
     "output_type": "execute_result"
    }
   ],
   "source": [
    "d"
   ]
  },
  {
   "cell_type": "code",
   "execution_count": 71,
   "id": "2af484e0-7307-465a-9b72-80631348804c",
   "metadata": {},
   "outputs": [
    {
     "data": {
      "text/plain": [
       "array([0, 1, 2, 3, 4, 0, 1, 2, 3, 4, 0, 1, 2, 3, 4, 0, 1, 2, 3, 4],\n",
       "      dtype=int32)"
      ]
     },
     "execution_count": 71,
     "metadata": {},
     "output_type": "execute_result"
    }
   ],
   "source": [
    "d % 5"
   ]
  },
  {
   "cell_type": "code",
   "execution_count": 74,
   "id": "c7666695-07f5-497b-ae17-7572866187b8",
   "metadata": {},
   "outputs": [],
   "source": [
    "e = np.arange(20)  # arange: Array mit Range erstellen (funktioniert wie oben)"
   ]
  },
  {
   "cell_type": "code",
   "execution_count": 73,
   "id": "c4d71f25-1e6e-4123-ad8a-116abb9ff972",
   "metadata": {},
   "outputs": [
    {
     "data": {
      "text/plain": [
       "array([ 0,  1,  2,  3,  4,  5,  6,  7,  8,  9, 10, 11, 12, 13, 14, 15, 16,\n",
       "       17, 18, 19])"
      ]
     },
     "execution_count": 73,
     "metadata": {},
     "output_type": "execute_result"
    }
   ],
   "source": [
    "e"
   ]
  },
  {
   "cell_type": "code",
   "execution_count": 75,
   "id": "bec710aa-2d6f-4b15-bde4-28c0c27a8ddc",
   "metadata": {},
   "outputs": [
    {
     "data": {
      "text/plain": [
       "array([  0,  11,  24,  39,  56,  75,  96, 119, 144, 171, 200, 231, 264,\n",
       "       299, 336, 375, 416, 459, 504, 551])"
      ]
     },
     "execution_count": 75,
     "metadata": {},
     "output_type": "execute_result"
    }
   ],
   "source": [
    "d * e"
   ]
  },
  {
   "cell_type": "code",
   "execution_count": 77,
   "id": "48f7bd35-b75e-4ce8-8750-a8183a1da43b",
   "metadata": {},
   "outputs": [
    {
     "data": {
      "text/plain": [
       "array([0.        , 0.09090909, 0.16666667, 0.23076923, 0.28571429,\n",
       "       0.33333333, 0.375     , 0.41176471, 0.44444444, 0.47368421,\n",
       "       0.5       , 0.52380952, 0.54545455, 0.56521739, 0.58333333,\n",
       "       0.6       , 0.61538462, 0.62962963, 0.64285714, 0.65517241])"
      ]
     },
     "execution_count": 77,
     "metadata": {},
     "output_type": "execute_result"
    }
   ],
   "source": [
    "e / d"
   ]
  },
  {
   "cell_type": "markdown",
   "id": "459e0431-6ea1-490c-ad07-6726bd8b6155",
   "metadata": {},
   "source": [
    "### Boolean Masken"
   ]
  },
  {
   "cell_type": "markdown",
   "id": "7a998ce9-809d-4ec9-a2e3-2f7dafc33806",
   "metadata": {},
   "source": [
    "Vektorisierung mit einer Bedingung\n",
    "\n",
    "Wird verwendet um Daten zu filtern"
   ]
  },
  {
   "cell_type": "code",
   "execution_count": 78,
   "id": "ba78a170-67a7-4f42-b0d1-f126f9a514ef",
   "metadata": {},
   "outputs": [],
   "source": [
    "f = np.arange(20)"
   ]
  },
  {
   "cell_type": "code",
   "execution_count": 80,
   "id": "f8f4aa52-4f78-4bdd-a632-1a1dbe99dca3",
   "metadata": {},
   "outputs": [
    {
     "data": {
      "text/plain": [
       "array([ True, False,  True, False,  True, False,  True, False,  True,\n",
       "       False,  True, False,  True, False,  True, False,  True, False,\n",
       "        True, False])"
      ]
     },
     "execution_count": 80,
     "metadata": {},
     "output_type": "execute_result"
    }
   ],
   "source": [
    "f % 2 == 0  # Hier kommt ein Boolean Array heraus"
   ]
  },
  {
   "cell_type": "code",
   "execution_count": 82,
   "id": "85aa6e6a-0fef-4d8d-9bf1-e641ac8a1e21",
   "metadata": {},
   "outputs": [
    {
     "data": {
      "text/plain": [
       "array([ 0,  2,  4,  6,  8, 10, 12, 14, 16, 18])"
      ]
     },
     "execution_count": 82,
     "metadata": {},
     "output_type": "execute_result"
    }
   ],
   "source": [
    "f[f % 2 == 0]  # Filterung mit Bedingung in der Klammer"
   ]
  },
  {
   "cell_type": "code",
   "execution_count": 83,
   "id": "3313002c-c6f0-4afb-8f22-b5aa9baf9c07",
   "metadata": {},
   "outputs": [
    {
     "data": {
      "text/plain": [
       "array([False, False, False, False, False, False, False, False, False,\n",
       "       False, False,  True,  True,  True,  True,  True,  True,  True,\n",
       "        True,  True])"
      ]
     },
     "execution_count": 83,
     "metadata": {},
     "output_type": "execute_result"
    }
   ],
   "source": [
    "f > 10"
   ]
  },
  {
   "cell_type": "code",
   "execution_count": 84,
   "id": "1fbe73e4-25f4-485a-a27f-3e58a2a4b49a",
   "metadata": {},
   "outputs": [
    {
     "data": {
      "text/plain": [
       "array([11, 12, 13, 14, 15, 16, 17, 18, 19])"
      ]
     },
     "execution_count": 84,
     "metadata": {},
     "output_type": "execute_result"
    }
   ],
   "source": [
    "f[f > 10]"
   ]
  },
  {
   "cell_type": "code",
   "execution_count": 89,
   "id": "64387336-7fcc-4ab0-bb03-188219134794",
   "metadata": {},
   "outputs": [
    {
     "data": {
      "text/plain": [
       "array([[44, 68, 91, 13,  6, 29, 24,  4, 37, 99],\n",
       "       [53, 49, 28, 30, 36,  7, 20, 93, 83, 23],\n",
       "       [23,  0, 66, 67, 92, 55, 26, 21, 94, 41],\n",
       "       [30, 24, 83, 16, 57, 68,  3, 92,  8, 98],\n",
       "       [60, 17,  3, 37, 87, 72, 21, 59,  5, 32],\n",
       "       [39,  1, 95, 63, 98, 90, 52, 91,  2, 99],\n",
       "       [80, 47,  0,  0, 96, 75, 43, 42, 14, 86],\n",
       "       [38, 83, 36, 92, 32, 64, 18, 83,  0, 13],\n",
       "       [25, 39, 47, 68, 60, 73, 22, 77, 23, 89],\n",
       "       [66, 10, 71, 63,  5, 84, 13, 50, 92, 52]])"
      ]
     },
     "execution_count": 89,
     "metadata": {},
     "output_type": "execute_result"
    }
   ],
   "source": [
    "g = np.random.randint(100, size=(10, 10))\n",
    "g"
   ]
  },
  {
   "cell_type": "code",
   "execution_count": 92,
   "id": "148b1adc-3f9e-44a1-8720-26441ba797c0",
   "metadata": {},
   "outputs": [
    {
     "data": {
      "text/plain": [
       "47.95"
      ]
     },
     "execution_count": 92,
     "metadata": {},
     "output_type": "execute_result"
    }
   ],
   "source": [
    "# Aufgabenstellung: Finde alle überdurchschnittlichen Zahlen\n",
    "avg = g.mean()\n",
    "avg"
   ]
  },
  {
   "cell_type": "code",
   "execution_count": 93,
   "id": "2f365997-d0c3-402c-9af5-0a776f9f9ed8",
   "metadata": {},
   "outputs": [
    {
     "data": {
      "text/plain": [
       "array([68, 91, 99, 53, 49, 93, 83, 66, 67, 92, 55, 94, 83, 57, 68, 92, 98,\n",
       "       60, 87, 72, 59, 95, 63, 98, 90, 52, 91, 99, 80, 96, 75, 86, 83, 92,\n",
       "       64, 83, 68, 60, 73, 77, 89, 66, 71, 63, 84, 50, 92, 52])"
      ]
     },
     "execution_count": 93,
     "metadata": {},
     "output_type": "execute_result"
    }
   ],
   "source": [
    "g[g > avg]"
   ]
  },
  {
   "cell_type": "code",
   "execution_count": 94,
   "id": "b47c5acc-8873-44f3-a0e1-131c270bfcb8",
   "metadata": {},
   "outputs": [
    {
     "data": {
      "text/plain": [
       "array([68, 91, 99, 53, 49, 93, 83, 66, 67, 92, 55, 94, 83, 57, 68, 92, 98,\n",
       "       60, 87, 72, 59, 95, 63, 98, 90, 52, 91, 99, 80, 96, 75, 86, 83, 92,\n",
       "       64, 83, 68, 60, 73, 77, 89, 66, 71, 63, 84, 50, 92, 52])"
      ]
     },
     "execution_count": 94,
     "metadata": {},
     "output_type": "execute_result"
    }
   ],
   "source": [
    "g[g > g.mean()]"
   ]
  },
  {
   "cell_type": "code",
   "execution_count": 96,
   "id": "a64f2672-cb3b-4e12-87c1-18a73f22b0fa",
   "metadata": {},
   "outputs": [
    {
     "data": {
      "text/plain": [
       "48"
      ]
     },
     "execution_count": 96,
     "metadata": {},
     "output_type": "execute_result"
    }
   ],
   "source": [
    "# Anzahl der Ergebnisse?\n",
    "len(g[g > g.mean()])"
   ]
  },
  {
   "cell_type": "code",
   "execution_count": 97,
   "id": "7da520eb-11f8-4477-b5a9-d3458bbb48b5",
   "metadata": {},
   "outputs": [],
   "source": [
    "# Nicht in Numpy: ~"
   ]
  },
  {
   "cell_type": "code",
   "execution_count": 101,
   "id": "48d880e3-44f0-481d-8545-bfced655f954",
   "metadata": {},
   "outputs": [
    {
     "data": {
      "text/plain": [
       "array([44, 13,  6, 29, 24,  4, 37, 49, 28, 30, 36,  7, 20, 23, 23,  0, 26,\n",
       "       21, 41, 30, 24, 16,  3,  8, 17,  3, 37, 21,  5, 32, 39,  1,  2, 47,\n",
       "        0,  0, 43, 42, 14, 38, 36, 32, 18,  0, 13, 25, 39, 47, 22, 23, 10,\n",
       "        5, 13, 50])"
      ]
     },
     "execution_count": 101,
     "metadata": {},
     "output_type": "execute_result"
    }
   ],
   "source": [
    "g[~(g > 50)]"
   ]
  },
  {
   "cell_type": "markdown",
   "id": "aedc95b8-2c06-44aa-9a72-a2176bd62f74",
   "metadata": {},
   "source": [
    "#### Performance"
   ]
  },
  {
   "cell_type": "code",
   "execution_count": 102,
   "id": "fe05f973-8257-4342-9af3-5fd76b73f871",
   "metadata": {},
   "outputs": [],
   "source": [
    "p = [1, 2, 3, 4]"
   ]
  },
  {
   "cell_type": "code",
   "execution_count": 103,
   "id": "f17df28e-589c-4159-aef9-d05d48b83f82",
   "metadata": {},
   "outputs": [],
   "source": [
    "import sys"
   ]
  },
  {
   "cell_type": "code",
   "execution_count": 105,
   "id": "ae82985b-c298-4582-b0a2-1381355df6a6",
   "metadata": {},
   "outputs": [
    {
     "data": {
      "text/plain": [
       "28"
      ]
     },
     "execution_count": 105,
     "metadata": {},
     "output_type": "execute_result"
    }
   ],
   "source": [
    "sys.getsizeof(p[0])"
   ]
  },
  {
   "cell_type": "code",
   "execution_count": 106,
   "id": "8327ebc3-2515-41c1-a624-62eda5df7c5a",
   "metadata": {},
   "outputs": [
    {
     "data": {
      "text/plain": [
       "112"
      ]
     },
     "execution_count": 106,
     "metadata": {},
     "output_type": "execute_result"
    }
   ],
   "source": [
    "28 * 4"
   ]
  },
  {
   "cell_type": "code",
   "execution_count": 110,
   "id": "5e48afff-dabc-4757-b367-66bcb5b9446f",
   "metadata": {},
   "outputs": [
    {
     "data": {
      "text/plain": [
       "1"
      ]
     },
     "execution_count": 110,
     "metadata": {},
     "output_type": "execute_result"
    }
   ],
   "source": [
    "np.array([1, 2, 3, 4]).itemsize"
   ]
  },
  {
   "cell_type": "code",
   "execution_count": 108,
   "id": "ca470898-a369-4a38-8909-c418d117288f",
   "metadata": {},
   "outputs": [
    {
     "data": {
      "text/plain": [
       "16"
      ]
     },
     "execution_count": 108,
     "metadata": {},
     "output_type": "execute_result"
    }
   ],
   "source": [
    "4 * 4"
   ]
  },
  {
   "cell_type": "code",
   "execution_count": 109,
   "id": "9c706308-e8c2-4007-a9b2-de04d1ac0826",
   "metadata": {},
   "outputs": [],
   "source": [
    "# -> Numpy Array ist 7 mal effizienter als ein Python Array"
   ]
  },
  {
   "cell_type": "code",
   "execution_count": 111,
   "id": "5bc4d9c8-428d-414d-9c8e-af50a6b66dda",
   "metadata": {},
   "outputs": [
    {
     "data": {
      "text/plain": [
       "1"
      ]
     },
     "execution_count": 111,
     "metadata": {},
     "output_type": "execute_result"
    }
   ],
   "source": [
    "np.array([1, 2, 3, 4], dtype=np.int8).itemsize"
   ]
  },
  {
   "cell_type": "code",
   "execution_count": 112,
   "id": "0fd3d638-fd2c-4c67-a038-8bb495ab7710",
   "metadata": {},
   "outputs": [],
   "source": [
    "# Hier 28 mal effizienter"
   ]
  },
  {
   "cell_type": "markdown",
   "id": "4a99e8e0-3581-48dd-9c6d-f60c950a6705",
   "metadata": {},
   "source": [
    "#### Vergleich"
   ]
  },
  {
   "cell_type": "code",
   "execution_count": 128,
   "id": "1471d444-d2ad-4926-b8f1-ee7bcc15d450",
   "metadata": {},
   "outputs": [],
   "source": [
    "import time"
   ]
  },
  {
   "cell_type": "code",
   "execution_count": 129,
   "id": "a4b61671-8e66-41c0-aa25-b205b20cc1cb",
   "metadata": {},
   "outputs": [],
   "source": [
    "def measureTime(func):\n",
    "    start = time.time()\n",
    "    func()\n",
    "    end = time.time()\n",
    "    print(end - start)"
   ]
  },
  {
   "cell_type": "code",
   "execution_count": 132,
   "id": "c736ddbe-da06-42b6-9adf-0c85e9b133a2",
   "metadata": {},
   "outputs": [],
   "source": [
    "def pythonList():\n",
    "    list(range(100_000_000))"
   ]
  },
  {
   "cell_type": "code",
   "execution_count": 133,
   "id": "12142e05-ce6d-4439-9661-1cd15096d378",
   "metadata": {},
   "outputs": [
    {
     "name": "stdout",
     "output_type": "stream",
     "text": [
      "5.189244747161865\n"
     ]
    }
   ],
   "source": [
    "measureTime(pythonList)"
   ]
  },
  {
   "cell_type": "code",
   "execution_count": 134,
   "id": "0ea393fe-42f0-421c-a33c-c88e748f0b5b",
   "metadata": {},
   "outputs": [],
   "source": [
    "def numpyArray():\n",
    "    np.arange(100_000_000)"
   ]
  },
  {
   "cell_type": "code",
   "execution_count": 135,
   "id": "dc7169ac-d768-4bf2-9818-63b1abdba3ee",
   "metadata": {},
   "outputs": [
    {
     "name": "stdout",
     "output_type": "stream",
     "text": [
      "0.20387983322143555\n"
     ]
    }
   ],
   "source": [
    "measureTime(numpyArray)"
   ]
  },
  {
   "cell_type": "markdown",
   "id": "50d8602b-dc33-4754-9542-8e14bb56f0e3",
   "metadata": {},
   "source": [
    "##### Speicherbedarf"
   ]
  },
  {
   "cell_type": "code",
   "execution_count": 138,
   "id": "91b66042-a974-492d-9674-257800e0b1ad",
   "metadata": {},
   "outputs": [],
   "source": [
    "x = list(range(100_000_000))  # 3GB RAM-Bedarf"
   ]
  },
  {
   "cell_type": "code",
   "execution_count": 139,
   "id": "6488d228-3537-42fe-ad27-17c250251a75",
   "metadata": {},
   "outputs": [],
   "source": [
    "del x"
   ]
  },
  {
   "cell_type": "code",
   "execution_count": 141,
   "id": "d8bfabca-f2b2-448d-85f7-0237831da9e5",
   "metadata": {},
   "outputs": [],
   "source": [
    "y = np.arange(100_000_000)  # 400MB Bedarf"
   ]
  },
  {
   "cell_type": "code",
   "execution_count": 142,
   "id": "864f635b-1375-4fde-a4d7-29a9491e13a9",
   "metadata": {},
   "outputs": [],
   "source": [
    "del y"
   ]
  },
  {
   "cell_type": "code",
   "execution_count": 143,
   "id": "36e1097b-0577-4af1-a19e-0d6995c7436a",
   "metadata": {},
   "outputs": [],
   "source": [
    "z = np.random.randint(100, size=(1_000_000_000), dtype=np.int8)"
   ]
  },
  {
   "cell_type": "code",
   "execution_count": 144,
   "id": "223c3b71-55ec-4ebf-a5fa-956abbeba70d",
   "metadata": {},
   "outputs": [],
   "source": [
    "del z"
   ]
  },
  {
   "cell_type": "markdown",
   "id": "1e646316-5292-46b0-88a2-08a1547c1b56",
   "metadata": {},
   "source": [
    "#### Andere Funktion"
   ]
  },
  {
   "cell_type": "code",
   "execution_count": 146,
   "id": "00e26b8b-b840-4b6d-be7c-e024affcef1d",
   "metadata": {},
   "outputs": [
    {
     "data": {
      "text/plain": [
       "array([0.21863241, 0.31903031, 0.92700865, 0.5237786 , 0.92695022,\n",
       "       0.93754519, 0.22701357, 0.96924253, 0.19500988, 0.71615788])"
      ]
     },
     "execution_count": 146,
     "metadata": {},
     "output_type": "execute_result"
    }
   ],
   "source": [
    "np.random.random(10)  # Kommazahlenarray erzeugen"
   ]
  },
  {
   "cell_type": "markdown",
   "id": "65b702a3-4197-40e5-a941-0c375dff9d56",
   "metadata": {},
   "source": [
    "reshape: Dimensionen eines Array verändern (z.B. 1D -> 2D, 2D -> 1D)"
   ]
  },
  {
   "cell_type": "code",
   "execution_count": 157,
   "id": "c1ba172b-4d57-4579-8bb7-309d6d9b839f",
   "metadata": {},
   "outputs": [
    {
     "data": {
      "text/plain": [
       "array([[0],\n",
       "       [1],\n",
       "       [2],\n",
       "       [3],\n",
       "       [4],\n",
       "       [5],\n",
       "       [6],\n",
       "       [7],\n",
       "       [8],\n",
       "       [9]])"
      ]
     },
     "execution_count": 157,
     "metadata": {},
     "output_type": "execute_result"
    }
   ],
   "source": [
    "np.arange(10).reshape(-1, 1)"
   ]
  },
  {
   "cell_type": "code",
   "execution_count": 159,
   "id": "9f7576c8-5fb9-457c-b6a9-a23493fc67a9",
   "metadata": {},
   "outputs": [
    {
     "data": {
      "text/plain": [
       "array([0, 1, 2, 3, 4, 5, 6, 7, 8, 9])"
      ]
     },
     "execution_count": 159,
     "metadata": {},
     "output_type": "execute_result"
    }
   ],
   "source": [
    "np.arange(10).reshape(-1, 1).reshape(-1)  # reshape(-1): Eine Dimension entfernen (2D -> 1D)"
   ]
  },
  {
   "cell_type": "code",
   "execution_count": 167,
   "id": "89721e4e-a3ba-47fb-8e15-54f52d4e684b",
   "metadata": {},
   "outputs": [
    {
     "data": {
      "text/plain": [
       "array([[0.96206782, 0.89901215, 0.28744188, 0.89778351, 0.28167978,\n",
       "        0.11208733, 0.58718039, 0.20910578, 0.41514547, 0.75840096],\n",
       "       [0.98736408, 0.25365108, 0.38899526, 0.64580383, 0.01827181,\n",
       "        0.55106018, 0.53194888, 0.34412452, 0.9362555 , 0.72419481],\n",
       "       [0.20246485, 0.68172679, 0.03577832, 0.21249464, 0.83481459,\n",
       "        0.90658026, 0.62402448, 0.94679661, 0.55678102, 0.48958765],\n",
       "       [0.17444018, 0.84929547, 0.00897244, 0.30486196, 0.58268887,\n",
       "        0.39614754, 0.0314879 , 0.9507702 , 0.68615659, 0.27624456],\n",
       "       [0.80922898, 0.77032368, 0.28665218, 0.43245668, 0.71173171,\n",
       "        0.18737731, 0.93375849, 0.79965709, 0.16208276, 0.18342154],\n",
       "       [0.87105143, 0.74155051, 0.30430274, 0.64306884, 0.08572389,\n",
       "        0.06637692, 0.06161101, 0.25033673, 0.57620964, 0.44058214],\n",
       "       [0.61143555, 0.39185882, 0.6239464 , 0.07644009, 0.41664115,\n",
       "        0.25770992, 0.10849272, 0.59900223, 0.03200052, 0.63769269],\n",
       "       [0.55162524, 0.37609834, 0.2300619 , 0.67989336, 0.37354813,\n",
       "        0.40187843, 0.31023039, 0.5350557 , 0.31059513, 0.0674315 ],\n",
       "       [0.21768599, 0.15136442, 0.93220826, 0.75970987, 0.5441728 ,\n",
       "        0.5835412 , 0.33030526, 0.05510431, 0.22642325, 0.36321159],\n",
       "       [0.13336099, 0.17255549, 0.96016329, 0.04004105, 0.1465433 ,\n",
       "        0.62799827, 0.40184681, 0.60048574, 0.91322691, 0.02783093]])"
      ]
     },
     "execution_count": 167,
     "metadata": {},
     "output_type": "execute_result"
    }
   ],
   "source": [
    "np.random.random(100).reshape(10, 10)  # 10x10 Array aus 1D erzeugen"
   ]
  },
  {
   "cell_type": "code",
   "execution_count": 170,
   "id": "bab08c2f-6cc5-4744-b2ae-e97cc4536854",
   "metadata": {},
   "outputs": [
    {
     "data": {
      "text/plain": [
       "array([[[ 0,  1,  2],\n",
       "        [ 3,  4,  5],\n",
       "        [ 6,  7,  8]],\n",
       "\n",
       "       [[ 9, 10, 11],\n",
       "        [12, 13, 14],\n",
       "        [15, 16, 17]],\n",
       "\n",
       "       [[18, 19, 20],\n",
       "        [21, 22, 23],\n",
       "        [24, 25, 26]]])"
      ]
     },
     "execution_count": 170,
     "metadata": {},
     "output_type": "execute_result"
    }
   ],
   "source": [
    "np.arange(27).reshape(3, 3, 3)  # Würfel erstellen"
   ]
  },
  {
   "cell_type": "code",
   "execution_count": 174,
   "id": "9009cc37-1973-44a3-b9bb-f2ab3b9ed7c9",
   "metadata": {},
   "outputs": [
    {
     "data": {
      "text/plain": [
       "array([0.        , 0.11111111, 0.22222222, 0.33333333, 0.44444444,\n",
       "       0.55555556, 0.66666667, 0.77777778, 0.88888889, 1.        ])"
      ]
     },
     "execution_count": 174,
     "metadata": {},
     "output_type": "execute_result"
    }
   ],
   "source": [
    "np.linspace(0, 1, 10)  # Gleich große Abstände"
   ]
  },
  {
   "cell_type": "code",
   "execution_count": 175,
   "id": "c0e5904e-6e88-436a-ab05-22f7726ccf4b",
   "metadata": {},
   "outputs": [],
   "source": [
    "import matplotlib.pyplot as plt"
   ]
  },
  {
   "cell_type": "code",
   "execution_count": 182,
   "id": "83c73521-0694-4034-84a5-68786ef92022",
   "metadata": {},
   "outputs": [
    {
     "data": {
      "text/plain": [
       "[<matplotlib.lines.Line2D at 0x1a1023842c0>]"
      ]
     },
     "execution_count": 182,
     "metadata": {},
     "output_type": "execute_result"
    },
    {
     "data": {
      "image/png": "[encoded data removed]",
      "text/plain": [
       "<Figure size 640x480 with 1 Axes>"
      ]
     },
     "metadata": {},
     "output_type": "display_data"
    }
   ],
   "source": [
    "plt.plot(np.linspace(-20, 40, 100), np.random.randint(100, size=(100)))  # arange bei X-Achse nicht möglich, weil 100 Y-Punkte gegeben sind"
   ]
  },
  {
   "cell_type": "markdown",
   "id": "0f07697a-5499-422f-ac17-3d1da11e9251",
   "metadata": {},
   "source": [
    "zeros, ones: Array mit X Nullen oder Einsen erzeugen\n",
    "\n",
    "Verwendung: Boolean Masken"
   ]
  },
  {
   "cell_type": "code",
   "execution_count": 184,
   "id": "e309ed9e-4155-4da3-8bfa-7e46a52ad241",
   "metadata": {},
   "outputs": [
    {
     "data": {
      "text/plain": [
       "array([0., 0., 0., 0., 0., 0., 0., 0., 0., 0.])"
      ]
     },
     "execution_count": 184,
     "metadata": {},
     "output_type": "execute_result"
    }
   ],
   "source": [
    "np.zeros(10)"
   ]
  },
  {
   "cell_type": "code",
   "execution_count": 185,
   "id": "af4ee08a-1edf-48f6-a1f2-7b579fcef494",
   "metadata": {},
   "outputs": [
    {
     "data": {
      "text/plain": [
       "array([1., 1., 1., 1., 1., 1., 1., 1., 1., 1.])"
      ]
     },
     "execution_count": 185,
     "metadata": {},
     "output_type": "execute_result"
    }
   ],
   "source": [
    "np.ones(10)"
   ]
  },
  {
   "cell_type": "code",
   "execution_count": 189,
   "id": "490f6e1c-78e6-44c0-8870-b7ee06bae7e6",
   "metadata": {},
   "outputs": [
    {
     "data": {
      "text/plain": [
       "array([0, 1, 2, 3, 4, 5, 6, 7, 8, 9])"
      ]
     },
     "execution_count": 189,
     "metadata": {},
     "output_type": "execute_result"
    }
   ],
   "source": [
    "np.arange(10)[np.ones(10) == 1]"
   ]
  },
  {
   "cell_type": "markdown",
   "id": "796e7579-5463-493e-b66b-79f1a7879fa0",
   "metadata": {},
   "source": [
    "hstack: Mehrere 2D-Arrays horizontal aneinander hängen (Tabellen)"
   ]
  },
  {
   "cell_type": "code",
   "execution_count": 192,
   "id": "c568283a-a22f-4924-8996-5bce9743dcae",
   "metadata": {},
   "outputs": [
    {
     "data": {
      "text/plain": [
       "array([[62,  1, 42, 92, 33, 68, 17, 86, 55, 58],\n",
       "       [12, 36, 75, 97, 49, 69,  9, 64, 10,  8],\n",
       "       [78, 81, 55, 13, 60,  4, 34, 70, 23, 22],\n",
       "       [ 9, 73, 85, 25,  7, 63, 25, 46, 98, 44],\n",
       "       [76, 45, 75, 45, 80, 81, 93, 26, 43, 38],\n",
       "       [69, 68, 89, 22, 42, 38, 34, 79,  0, 62],\n",
       "       [84, 43, 97, 84, 26,  6, 62, 72, 35, 98],\n",
       "       [95,  8, 42, 81, 85, 63, 24, 51,  2, 45],\n",
       "       [65, 47, 80, 14, 63, 19,  4, 95, 71, 54],\n",
       "       [26, 67, 58, 38, 15, 41, 61, 26, 94, 83]])"
      ]
     },
     "execution_count": 192,
     "metadata": {},
     "output_type": "execute_result"
    }
   ],
   "source": [
    "t = np.random.randint(100, size=(10, 10))\n",
    "t"
   ]
  },
  {
   "cell_type": "code",
   "execution_count": 193,
   "id": "1d1f213e-0c92-456c-9fef-cef6b213706e",
   "metadata": {},
   "outputs": [],
   "source": [
    "# Aufgabe: Am Ende eine Spalte anhängen, welche die Summe der jeweiligen Zeile ausgibt"
   ]
  },
  {
   "cell_type": "code",
   "execution_count": 196,
   "id": "49086874-5d27-4167-b23d-a75e0b943a53",
   "metadata": {},
   "outputs": [
    {
     "data": {
      "text/plain": [
       "array([[514],\n",
       "       [429],\n",
       "       [440],\n",
       "       [475],\n",
       "       [602],\n",
       "       [503],\n",
       "       [607],\n",
       "       [496],\n",
       "       [512],\n",
       "       [509]])"
      ]
     },
     "execution_count": 196,
     "metadata": {},
     "output_type": "execute_result"
    }
   ],
   "source": [
    "s = t.sum(axis=1).reshape(-1, 1)\n",
    "s"
   ]
  },
  {
   "cell_type": "code",
   "execution_count": 202,
   "id": "15533c62-bfa5-446a-9ea0-ac202051b762",
   "metadata": {},
   "outputs": [
    {
     "data": {
      "text/plain": [
       "array([[ 62,   1,  42,  92,  33,  68,  17,  86,  55,  58, 514],\n",
       "       [ 12,  36,  75,  97,  49,  69,   9,  64,  10,   8, 429],\n",
       "       [ 78,  81,  55,  13,  60,   4,  34,  70,  23,  22, 440],\n",
       "       [  9,  73,  85,  25,   7,  63,  25,  46,  98,  44, 475],\n",
       "       [ 76,  45,  75,  45,  80,  81,  93,  26,  43,  38, 602],\n",
       "       [ 69,  68,  89,  22,  42,  38,  34,  79,   0,  62, 503],\n",
       "       [ 84,  43,  97,  84,  26,   6,  62,  72,  35,  98, 607],\n",
       "       [ 95,   8,  42,  81,  85,  63,  24,  51,   2,  45, 496],\n",
       "       [ 65,  47,  80,  14,  63,  19,   4,  95,  71,  54, 512],\n",
       "       [ 26,  67,  58,  38,  15,  41,  61,  26,  94,  83, 509]])"
      ]
     },
     "execution_count": 202,
     "metadata": {},
     "output_type": "execute_result"
    }
   ],
   "source": [
    "np.hstack((t, s))  # WICHTIG: Die gegebenen Arrays innerhalb von hstack müssen eine Liste sein"
   ]
  },
  {
   "cell_type": "code",
   "execution_count": 207,
   "id": "45950295-f863-42b5-b5b5-fd070cc4f80e",
   "metadata": {},
   "outputs": [
    {
     "data": {
      "text/plain": [
       "array([[51.4],\n",
       "       [42.9],\n",
       "       [44. ],\n",
       "       [47.5],\n",
       "       [60.2],\n",
       "       [50.3],\n",
       "       [60.7],\n",
       "       [49.6],\n",
       "       [51.2],\n",
       "       [50.9]])"
      ]
     },
     "execution_count": 207,
     "metadata": {},
     "output_type": "execute_result"
    }
   ],
   "source": [
    "m = t.mean(axis=1).reshape(-1, 1)\n",
    "m"
   ]
  },
  {
   "cell_type": "code",
   "execution_count": 208,
   "id": "2d398f19-aa24-4493-b218-856aaf489f58",
   "metadata": {},
   "outputs": [
    {
     "data": {
      "text/plain": [
       "array([[ 62. ,   1. ,  42. ,  92. ,  33. ,  68. ,  17. ,  86. ,  55. ,\n",
       "         58. , 514. ,  51.4],\n",
       "       [ 12. ,  36. ,  75. ,  97. ,  49. ,  69. ,   9. ,  64. ,  10. ,\n",
       "          8. , 429. ,  42.9],\n",
       "       [ 78. ,  81. ,  55. ,  13. ,  60. ,   4. ,  34. ,  70. ,  23. ,\n",
       "         22. , 440. ,  44. ],\n",
       "       [  9. ,  73. ,  85. ,  25. ,   7. ,  63. ,  25. ,  46. ,  98. ,\n",
       "         44. , 475. ,  47.5],\n",
       "       [ 76. ,  45. ,  75. ,  45. ,  80. ,  81. ,  93. ,  26. ,  43. ,\n",
       "         38. , 602. ,  60.2],\n",
       "       [ 69. ,  68. ,  89. ,  22. ,  42. ,  38. ,  34. ,  79. ,   0. ,\n",
       "         62. , 503. ,  50.3],\n",
       "       [ 84. ,  43. ,  97. ,  84. ,  26. ,   6. ,  62. ,  72. ,  35. ,\n",
       "         98. , 607. ,  60.7],\n",
       "       [ 95. ,   8. ,  42. ,  81. ,  85. ,  63. ,  24. ,  51. ,   2. ,\n",
       "         45. , 496. ,  49.6],\n",
       "       [ 65. ,  47. ,  80. ,  14. ,  63. ,  19. ,   4. ,  95. ,  71. ,\n",
       "         54. , 512. ,  51.2],\n",
       "       [ 26. ,  67. ,  58. ,  38. ,  15. ,  41. ,  61. ,  26. ,  94. ,\n",
       "         83. , 509. ,  50.9]])"
      ]
     },
     "execution_count": 208,
     "metadata": {},
     "output_type": "execute_result"
    }
   ],
   "source": [
    "np.hstack((t, s, m))"
   ]
  }
 ],
 "metadata": {
  "kernelspec": {
   "display_name": "Python 3 (ipykernel)",
   "language": "python",
   "name": "python3"
  },
  "language_info": {
   "codemirror_mode": {
    "name": "ipython",
    "version": 3
   },
   "file_extension": ".py",
   "mimetype": "text/x-python",
   "name": "python",
   "nbconvert_exporter": "python",
   "pygments_lexer": "ipython3",
   "version": "3.12.3"
  }
 },
 "nbformat": 4,
 "nbformat_minor": 5
}
