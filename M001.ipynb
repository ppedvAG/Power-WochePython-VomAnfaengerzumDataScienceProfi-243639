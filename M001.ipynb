{
 "cells": [
  {
   "cell_type": "markdown",
   "id": "90ead273-7e24-4057-a0e5-645addd5a92f",
   "metadata": {},
   "source": [
    "## IPython Notebooks\n",
    "\n",
    "Funktionen:\n",
    "\n",
    "- Zellen\n",
    "    - Code modular ausführen (es muss nicht immer alles ausgeführt werden)\n",
    "    - Schönen Text (Markdown)\n",
    "    - Code schnell ausführen\n",
    "- Grafiken darstellen\n",
    "    - Tabellen\n",
    "    - Graphen/Diagramme\n",
    " \n",
    "Verwendung:\n",
    "- Zellen mit Code\n",
    "- Zellen einzeln ausführen\n",
    "- Inhalte aus vorherigen Zellen können in nachfolgenden Zellen verwendet werden"
   ]
  },
  {
   "cell_type": "code",
   "execution_count": 2,
   "id": "f2ddd5eb-c87d-45ea-ae71-9bd8dfd2061f",
   "metadata": {},
   "outputs": [],
   "source": [
    "x = 5"
   ]
  },
  {
   "cell_type": "code",
   "execution_count": 3,
   "id": "808cd93b-925c-484d-81c7-d1592fe0ae8d",
   "metadata": {},
   "outputs": [
    {
     "data": {
      "text/plain": [
       "25"
      ]
     },
     "execution_count": 3,
     "metadata": {},
     "output_type": "execute_result"
    }
   ],
   "source": [
    "x ** 2"
   ]
  },
  {
   "cell_type": "markdown",
   "id": "7ee7c936-2397-4ff5-8194-8eac123497e6",
   "metadata": {},
   "source": [
    "### Markdown\n",
    "\n",
    "#### Überschrift\n",
    "\n",
    "##### Überschrift\n",
    "\n",
    "###### Überschrift\n",
    "\n",
    "- Aufzählung\n",
    "    - Aufzählung\n",
    "        - Aufzählung\n",
    "          - Aufzählung\n",
    "         \n",
    "**Fetter Text**\n",
    "\n",
    "_Kursiver Text_\n",
    "\n",
    "> Zitat: Ich https://ppedv.de"
   ]
  },
  {
   "cell_type": "code",
   "execution_count": 4,
   "id": "9e310159-aaf6-452a-a594-566ae10034df",
   "metadata": {},
   "outputs": [],
   "source": [
    "x = 10\n",
    "y = 20"
   ]
  },
  {
   "cell_type": "code",
   "execution_count": 8,
   "id": "4a75a7a8-98f1-4924-91c3-8e318ea4eed7",
   "metadata": {},
   "outputs": [
    {
     "data": {
      "text/plain": [
       "200"
      ]
     },
     "execution_count": 8,
     "metadata": {},
     "output_type": "execute_result"
    }
   ],
   "source": [
    "x * y"
   ]
  },
  {
   "cell_type": "code",
   "execution_count": 9,
   "id": "4ae5da8d-fe94-4943-affe-f55cf50fda8d",
   "metadata": {},
   "outputs": [
    {
     "data": {
      "text/html": [
       "<div>\n",
       "<style scoped>\n",
       "    .dataframe tbody tr th:only-of-type {\n",
       "        vertical-align: middle;\n",
       "    }\n",
       "\n",
       "    .dataframe tbody tr th {\n",
       "        vertical-align: top;\n",
       "    }\n",
       "\n",
       "    .dataframe thead th {\n",
       "        text-align: right;\n",
       "    }\n",
       "</style>\n",
       "<table border=\"1\" class=\"dataframe\">\n",
       "  <thead>\n",
       "    <tr style=\"text-align: right;\">\n",
       "      <th></th>\n",
       "      <th>Spalte1</th>\n",
       "      <th>Spalte2</th>\n",
       "      <th>Spalte3</th>\n",
       "    </tr>\n",
       "  </thead>\n",
       "  <tbody>\n",
       "    <tr>\n",
       "      <th>0</th>\n",
       "      <td>1</td>\n",
       "      <td>1</td>\n",
       "      <td>1</td>\n",
       "    </tr>\n",
       "    <tr>\n",
       "      <th>1</th>\n",
       "      <td>2</td>\n",
       "      <td>2</td>\n",
       "      <td>2</td>\n",
       "    </tr>\n",
       "    <tr>\n",
       "      <th>2</th>\n",
       "      <td>3</td>\n",
       "      <td>3</td>\n",
       "      <td>3</td>\n",
       "    </tr>\n",
       "  </tbody>\n",
       "</table>\n",
       "</div>"
      ],
      "text/plain": [
       "   Spalte1  Spalte2  Spalte3\n",
       "0        1        1        1\n",
       "1        2        2        2\n",
       "2        3        3        3"
      ]
     },
     "execution_count": 9,
     "metadata": {},
     "output_type": "execute_result"
    }
   ],
   "source": [
    "import pandas as pd\n",
    "pd.DataFrame({\"Spalte1\": [1, 2, 3], \"Spalte2\": [1, 2, 3], \"Spalte3\": [1, 2, 3] })"
   ]
  },
  {
   "cell_type": "code",
   "execution_count": 10,
   "id": "677ba006-c340-41f4-b69a-8c4ecddf9e77",
   "metadata": {},
   "outputs": [
    {
     "data": {
      "text/plain": [
       "[<matplotlib.lines.Line2D at 0x19e92c28560>]"
      ]
     },
     "execution_count": 10,
     "metadata": {},
     "output_type": "execute_result"
    },
    {
     "data": {
      "image/png": "[encoded data removed]",
      "text/plain": [
       "<Figure size 640x480 with 1 Axes>"
      ]
     },
     "metadata": {},
     "output_type": "display_data"
    }
   ],
   "source": [
    "import matplotlib.pyplot as plt\n",
    "plt.plot([3.5, 2.1, 8.4, 9.2, 5.1])"
   ]
  },
  {
   "cell_type": "code",
   "execution_count": 13,
   "id": "5f0d38d0-2964-4473-a0b8-c9aee163d1d8",
   "metadata": {},
   "outputs": [
    {
     "data": {
      "text/plain": [
       "<BarContainer object of 5 artists>"
      ]
     },
     "execution_count": 13,
     "metadata": {},
     "output_type": "execute_result"
    },
    {
     "data": {
      "image/png": "[encoded data removed]",
      "text/plain": [
       "<Figure size 640x480 with 1 Axes>"
      ]
     },
     "metadata": {},
     "output_type": "display_data"
    }
   ],
   "source": [
    "plt.bar([1, 2, 3, 4, 5], [3.5, 2.1, 8.4, 9.2, 5.1])"
   ]
  },
  {
   "cell_type": "markdown",
   "id": "46bb8692-7eb6-4158-bf28-0dbcdd137b7d",
   "metadata": {},
   "source": [
    "### Shortcuts\n",
    "Strg/Shift + Enter: Zelle ausführen (Shift: Springt in die nächste Zelle)\n",
    "\n",
    "Pfeil/Hoch herunter: Zwischen Zellen bewegen\n",
    "\n",
    "Enter: Zelle betreten\n",
    "\n",
    "Escape: Zelle verlassen ohne Ausführen\n",
    "\n",
    "---\n",
    "\n",
    "A, B: Neue Zelle einführen\n",
    "\n",
    "D, D (2x D): Zelle löschen\n",
    "\n",
    "Z, Shift + Z: Undo, Redo\n",
    "\n",
    "X, C, V: Cut, Copy, Paste\n",
    "\n",
    "M, Y: Zwischen Markdown und Code umschalten"
   ]
  }
 ],
 "metadata": {
  "kernelspec": {
   "display_name": "Python 3 (ipykernel)",
   "language": "python",
   "name": "python3"
  },
  "language_info": {
   "codemirror_mode": {
    "name": "ipython",
    "version": 3
   },
   "file_extension": ".py",
   "mimetype": "text/x-python",
   "name": "python",
   "nbconvert_exporter": "python",
   "pygments_lexer": "ipython3",
   "version": "3.12.3"
  }
 },
 "nbformat": 4,
 "nbformat_minor": 5
}
